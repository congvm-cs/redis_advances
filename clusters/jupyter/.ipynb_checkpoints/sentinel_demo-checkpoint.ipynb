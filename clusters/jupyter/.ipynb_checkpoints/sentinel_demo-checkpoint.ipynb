{
 "cells": [
  {
   "cell_type": "code",
   "execution_count": 1,
   "metadata": {},
   "outputs": [],
   "source": [
    "import redis"
   ]
  },
  {
   "cell_type": "code",
   "execution_count": 4,
   "metadata": {},
   "outputs": [],
   "source": [
    "db = redis.Redis('127.0.0.1', 26381)"
   ]
  },
  {
   "cell_type": "code",
   "execution_count": 5,
   "metadata": {},
   "outputs": [
    {
     "data": {
      "text/plain": [
       "{'example-test': {'name': 'example-test',\n",
       "  'ip': '127.0.0.1',\n",
       "  'port': 6379,\n",
       "  'runid': 'd34c87f5bb8536d88c60d57570ba289a4a77813f',\n",
       "  'flags': 'master',\n",
       "  'link-pending-commands': '0',\n",
       "  'link-refcount': '1',\n",
       "  'last-ping-sent': 0,\n",
       "  'last-ok-ping-reply': 860,\n",
       "  'last-ping-reply': 860,\n",
       "  'down-after-milliseconds': 5000,\n",
       "  'info-refresh': 8549,\n",
       "  'role-reported': 'master',\n",
       "  'role-reported-time': 18611,\n",
       "  'config-epoch': 0,\n",
       "  'num-slaves': 2,\n",
       "  'num-other-sentinels': 2,\n",
       "  'quorum': 2,\n",
       "  'failover-timeout': 900000,\n",
       "  'parallel-syncs': 1,\n",
       "  'is_master': True,\n",
       "  'is_slave': False,\n",
       "  'is_sdown': False,\n",
       "  'is_odown': False,\n",
       "  'is_sentinel': False,\n",
       "  'is_disconnected': False,\n",
       "  'is_master_down': False}}"
      ]
     },
     "execution_count": 5,
     "metadata": {},
     "output_type": "execute_result"
    }
   ],
   "source": [
    "db.sentinel_masters()"
   ]
  },
  {
   "cell_type": "code",
   "execution_count": null,
   "metadata": {},
   "outputs": [],
   "source": []
  },
  {
   "cell_type": "markdown",
   "metadata": {},
   "source": [
    "## Sentinel Demo"
   ]
  },
  {
   "cell_type": "code",
   "execution_count": 11,
   "metadata": {},
   "outputs": [],
   "source": [
    "from redis.sentinel import Sentinel\n",
    "sentinel = Sentinel([('127.0.0.1', 26379), \n",
    "                     ('127.0.0.1', 26380), \n",
    "                     ('127.0.0.1', 26381)], \n",
    "                    socket_timeout=0.1)"
   ]
  },
  {
   "cell_type": "code",
   "execution_count": 12,
   "metadata": {},
   "outputs": [],
   "source": [
    "master = sentinel.master_for('example-test', socket_timeout=0.1)"
   ]
  },
  {
   "cell_type": "code",
   "execution_count": 16,
   "metadata": {},
   "outputs": [
    {
     "data": {
      "text/plain": [
       "True"
      ]
     },
     "execution_count": 16,
     "metadata": {},
     "output_type": "execute_result"
    }
   ],
   "source": [
    "master.set('t4', 'g4')"
   ]
  },
  {
   "cell_type": "code",
   "execution_count": 26,
   "metadata": {},
   "outputs": [
    {
     "name": "stdout",
     "output_type": "stream",
     "text": [
      "[b't4', b't3', b't2', b't1']\n"
     ]
    }
   ],
   "source": [
    "all_keys = master.keys()\n",
    "print(all_keys)"
   ]
  },
  {
   "cell_type": "code",
   "execution_count": 27,
   "metadata": {},
   "outputs": [
    {
     "data": {
      "text/plain": [
       "[b'g4', b'g3', b'g2', b'g1']"
      ]
     },
     "execution_count": 27,
     "metadata": {},
     "output_type": "execute_result"
    }
   ],
   "source": [
    "master.mget(all_keys)"
   ]
  },
  {
   "cell_type": "code",
   "execution_count": null,
   "metadata": {},
   "outputs": [],
   "source": []
  },
  {
   "cell_type": "markdown",
   "metadata": {},
   "source": [
    "## Redis Clusters"
   ]
  },
  {
   "cell_type": "code",
   "execution_count": 2,
   "metadata": {},
   "outputs": [],
   "source": [
    "from rediscluster import RedisCluster"
   ]
  },
  {
   "cell_type": "code",
   "execution_count": 6,
   "metadata": {},
   "outputs": [],
   "source": [
    "startup_nodes = [{\"host\": \"127.0.0.1\", \"port\": \"30001\",\n",
    "                  \"host\": \"127.0.0.1\", \"port\": \"30002\",\n",
    "                  \"host\": \"127.0.0.1\", \"port\": \"30003\"}]\n",
    "\n",
    "# Note: decode_responses must be set to True when used with python3\n",
    "rc = RedisCluster(startup_nodes=startup_nodes,\n",
    "                  skip_full_coverage_check=True, \n",
    "                  decode_responses=True, )"
   ]
  },
  {
   "cell_type": "code",
   "execution_count": 7,
   "metadata": {},
   "outputs": [
    {
     "data": {
      "text/plain": [
       "True"
      ]
     },
     "execution_count": 7,
     "metadata": {},
     "output_type": "execute_result"
    }
   ],
   "source": [
    "rc.set(\"foo\", \"bar\")"
   ]
  },
  {
   "cell_type": "code",
   "execution_count": 8,
   "metadata": {},
   "outputs": [
    {
     "name": "stdout",
     "output_type": "stream",
     "text": [
      "bar\n"
     ]
    }
   ],
   "source": [
    "print(rc.get(\"foo\"))"
   ]
  },
  {
   "cell_type": "code",
   "execution_count": null,
   "metadata": {},
   "outputs": [],
   "source": []
  },
  {
   "cell_type": "code",
   "execution_count": null,
   "metadata": {},
   "outputs": [],
   "source": []
  },
  {
   "cell_type": "code",
   "execution_count": null,
   "metadata": {},
   "outputs": [],
   "source": []
  }
 ],
 "metadata": {
  "kernelspec": {
   "display_name": "Python 3",
   "language": "python",
   "name": "python3"
  },
  "language_info": {
   "codemirror_mode": {
    "name": "ipython",
    "version": 3
   },
   "file_extension": ".py",
   "mimetype": "text/x-python",
   "name": "python",
   "nbconvert_exporter": "python",
   "pygments_lexer": "ipython3",
   "version": "3.7.4"
  }
 },
 "nbformat": 4,
 "nbformat_minor": 4
}
